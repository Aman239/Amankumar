{
 "cells": [
  {
   "cell_type": "code",
   "execution_count": 1,
   "metadata": {},
   "outputs": [],
   "source": [
    "from sklearn.datasets import fetch_openml\n",
    "import numpy as np"
   ]
  },
  {
   "cell_type": "code",
   "execution_count": 2,
   "metadata": {},
   "outputs": [],
   "source": [
    "digits = fetch_openml(\"mnist_784\")"
   ]
  },
  {
   "cell_type": "code",
   "execution_count": 3,
   "metadata": {},
   "outputs": [],
   "source": [
    "data=digits.data\n",
    "classes = digits.target.astype(np.int8)"
   ]
  },
  {
   "cell_type": "code",
   "execution_count": 4,
   "metadata": {},
   "outputs": [],
   "source": [
    "mnist_data = np.insert(data,784, classes, axis = 1)\n",
    "sf = np.random.permutation(len(mnist_data))\n",
    "mnist_data = mnist_data[sf]\n",
    "\n",
    "data_Set = mnist_data[:10]"
   ]
  },
  {
   "cell_type": "code",
   "execution_count": 5,
   "metadata": {},
   "outputs": [
    {
     "name": "stdout",
     "output_type": "stream",
     "text": [
      "3.0 Prob: 0.1\n",
      "0.0 Prob: 0.1\n",
      "2.0 Prob: 0.4\n",
      "4.0 Prob: 0.2\n",
      "9.0 Prob: 0.1\n",
      "1.0 Prob: 0.1\n"
     ]
    }
   ],
   "source": [
    "def Separate_By_Classes(dataset):\n",
    "    seprate = {}\n",
    "    for row in dataset:\n",
    "        Class = row[-1]\n",
    "        if Class not in seprate:\n",
    "            seprate[Class] = []\n",
    "        seprate[Class].append(row)\n",
    "    return seprate\n",
    "      \n",
    "Seprated = Separate_By_Classes(data_Set)\n",
    "for i in Seprated:\n",
    "    print(i, \"Prob:\", len(Seprated[i])/len(data_Set))\n"
   ]
  },
  {
   "cell_type": "code",
   "execution_count": 6,
   "metadata": {},
   "outputs": [],
   "source": [
    "def Mean(numbers):\n",
    "    return sum(numbers)/len(numbers)\n",
    "\n",
    "\n",
    "def Std(numbers):\n",
    "    mean = Mean(numbers)\n",
    "    Sum = 0\n",
    "    for i in numbers:\n",
    "        Sum = Sum + ((i - mean)**2)\n",
    "    var = Sum/len(numbers)\n",
    "    std = var**0.5\n",
    "    return std\n",
    "    \n",
    "    \n",
    "def Manage_Our_Data(dataset):\n",
    "    summaries = []\n",
    "    for i in zip(*dataset):\n",
    "        MyMean = Mean(i)\n",
    "        MyStd  = Std(i)\n",
    "        Len = len(i)\n",
    "        Sum = [MyMean, MyStd, Len]\n",
    "        summaries.append(Sum)\n",
    "    return summaries[:-1]\n",
    "\n",
    "\n",
    "def Manage_DataSet_by_Classes(dataset):\n",
    "    Manage = {}\n",
    "    separate = Separate_By_Classes(dataset)\n",
    "    for i in separate:\n",
    "        Manage[i] = Manage_Our_Data(separate[i])\n",
    "    return Manage\n",
    "    "
   ]
  },
  {
   "cell_type": "code",
   "execution_count": 7,
   "metadata": {},
   "outputs": [],
   "source": [
    "def Calculate_Prob(x, mean, std):\n",
    "    part_1 = np.exp(-((x-mean)**2) / (2*(std)**2))\n",
    "    part_2 = 1/((np.sqrt(2*np.pi))*std)\n",
    "    return part_1 * part_2"
   ]
  },
  {
   "cell_type": "code",
   "execution_count": 8,
   "metadata": {},
   "outputs": [],
   "source": [
    "def Find_Probability(dataClasses, newData):\n",
    "    total_rows = 0\n",
    "    for i in dataClasses:\n",
    "        total_rows += dataClasses[i][0][-1]\n",
    "    prob = {}\n",
    "    for i in dataClasses:\n",
    "        prob[i] = dataClasses[i][0][-1]/total_rows\n",
    "        class_summery = dataClasses[i]\n",
    "        for j in range(len(class_summery)):\n",
    "            mean, std, UnUsed = class_summery[j]\n",
    "            Pr = Calculate_Prob(newData[j], mean, std)\n",
    "            prob[i] = prob[i] * Pr    \n",
    "    return prob\n",
    "    \n",
    "    \n",
    "def Prediction(data, newData):\n",
    "    Summ = Manage_DataSet_by_Classes(data)\n",
    "    Probs = Find_Probability(Summ, newData)\n",
    "    Max_Probs = [0, 0] #class, prob\n",
    "    for i in Probs:\n",
    "        if Probs[i] > Max_Probs[1]:\n",
    "            Max_Probs[0] = i\n",
    "            Max_Probs[1] = Probs[i]\n",
    "    return Max_Probs[0]"
   ]
  },
  {
   "cell_type": "code",
   "execution_count": 12,
   "metadata": {},
   "outputs": [],
   "source": [
    "def Naive_Bayes_Algo(train, test):\n",
    "    prediction = []\n",
    "    for i in test:\n",
    "        out = Prediction(train, i)\n",
    "        prediction.append(out)\n",
    "    return prediction\n",
    "\n",
    "def Accuracy(y_true, pred_y):\n",
    "    n_correct = 0\n",
    "    for i,j in zip(y_true, pred_y):\n",
    "        if i == j:\n",
    "            n_correct += 1\n",
    "    return n_correct/len(y_true)"
   ]
  },
  {
   "cell_type": "code",
   "execution_count": null,
   "metadata": {},
   "outputs": [
    {
     "name": "stderr",
     "output_type": "stream",
     "text": [
      "C:\\Users\\lenevo\\anaconda3\\lib\\site-packages\\ipykernel_launcher.py:2: RuntimeWarning: invalid value encountered in double_scalars\n",
      "  \n",
      "C:\\Users\\lenevo\\anaconda3\\lib\\site-packages\\ipykernel_launcher.py:3: RuntimeWarning: divide by zero encountered in double_scalars\n",
      "  This is separate from the ipykernel package so we can avoid doing imports until\n",
      "C:\\Users\\lenevo\\anaconda3\\lib\\site-packages\\ipykernel_launcher.py:2: RuntimeWarning: divide by zero encountered in double_scalars\n",
      "  \n",
      "C:\\Users\\lenevo\\anaconda3\\lib\\site-packages\\ipykernel_launcher.py:4: RuntimeWarning: invalid value encountered in double_scalars\n",
      "  after removing the cwd from sys.path.\n"
     ]
    }
   ],
   "source": [
    "Class = Naive_Bayes_Algo(mnist_data, mnist_data)\n",
    "act = mnist_data[:,-1]"
   ]
  },
  {
   "cell_type": "code",
   "execution_count": null,
   "metadata": {},
   "outputs": [],
   "source": [
    "Accuracy(Class,act)"
   ]
  },
  {
   "cell_type": "code",
   "execution_count": null,
   "metadata": {},
   "outputs": [],
   "source": []
  }
 ],
 "metadata": {
  "kernelspec": {
   "display_name": "Python 3",
   "language": "python",
   "name": "python3"
  },
  "language_info": {
   "codemirror_mode": {
    "name": "ipython",
    "version": 3
   },
   "file_extension": ".py",
   "mimetype": "text/x-python",
   "name": "python",
   "nbconvert_exporter": "python",
   "pygments_lexer": "ipython3",
   "version": "3.7.6"
  }
 },
 "nbformat": 4,
 "nbformat_minor": 4
}
